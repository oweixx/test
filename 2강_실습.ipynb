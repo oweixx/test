{
  "nbformat": 4,
  "nbformat_minor": 0,
  "metadata": {
    "colab": {
      "provenance": [],
      "gpuType": "T4",
      "authorship_tag": "ABX9TyPnnmBvjWNkNM51rVDVlWtd",
      "include_colab_link": true
    },
    "kernelspec": {
      "name": "python3",
      "display_name": "Python 3"
    },
    "language_info": {
      "name": "python"
    },
    "accelerator": "GPU"
  },
  "cells": [
    {
      "cell_type": "markdown",
      "metadata": {
        "id": "view-in-github",
        "colab_type": "text"
      },
      "source": [
        "<a href=\"https://colab.research.google.com/github/oweixx/test/blob/main/2%EA%B0%95_%EC%8B%A4%EC%8A%B5.ipynb\" target=\"_parent\"><img src=\"https://colab.research.google.com/assets/colab-badge.svg\" alt=\"Open In Colab\"/></a>"
      ]
    },
    {
      "cell_type": "code",
      "execution_count": null,
      "metadata": {
        "colab": {
          "base_uri": "https://localhost:8080/"
        },
        "id": "68hDld4z8IKd",
        "outputId": "1ef9c0b9-eb5e-4081-88c5-ade10146dd1f"
      },
      "outputs": [
        {
          "output_type": "stream",
          "name": "stdout",
          "text": [
            "PyTorch Version: 2.3.1+cu121\n",
            "Device : cuda\n"
          ]
        }
      ],
      "source": [
        "import numpy as np\n",
        "import matplotlib.pyplot as plt\n",
        "import torch\n",
        "import torch.nn as nn\n",
        "import torch.optim as optim\n",
        "import torch.nn.functional as F\n",
        "%matplotlib inline\n",
        "%config Inlineackend.figure_format='retina'\n",
        "print(f'PyTorch Version: {torch.__version__}')\n",
        "device = torch.device('cuda' if torch.cuda.is_available() else 'cpu')\n",
        "print(f\"Device : {device}\")"
      ]
    },
    {
      "cell_type": "markdown",
      "source": [
        "## DataSet"
      ],
      "metadata": {
        "id": "mHpqFUax86Gd"
      }
    },
    {
      "cell_type": "code",
      "source": [
        "from torchvision import datasets, transforms\n",
        "mnist_train = datasets.MNIST(root='./data/', train = True, transform = transforms.ToTensor(), download = True)\n",
        "mnist_test = datasets.MNIST(root='./data/', train = False, transform = transforms.ToTensor(), download = True)\n",
        "print(f\"mnist_train: {mnist_train}\")\n",
        "print(f\"mnist_test: {mnist_test}\")"
      ],
      "metadata": {
        "colab": {
          "base_uri": "https://localhost:8080/"
        },
        "id": "8wM6jMcH80Vl",
        "outputId": "93ee66a5-8236-4807-ef65-bcfae1b4e8f1"
      },
      "execution_count": null,
      "outputs": [
        {
          "output_type": "stream",
          "name": "stdout",
          "text": [
            "Downloading http://yann.lecun.com/exdb/mnist/train-images-idx3-ubyte.gz\n",
            "Failed to download (trying next):\n",
            "HTTP Error 403: Forbidden\n",
            "\n",
            "Downloading https://ossci-datasets.s3.amazonaws.com/mnist/train-images-idx3-ubyte.gz\n",
            "Downloading https://ossci-datasets.s3.amazonaws.com/mnist/train-images-idx3-ubyte.gz to ./data/MNIST/raw/train-images-idx3-ubyte.gz\n"
          ]
        },
        {
          "output_type": "stream",
          "name": "stderr",
          "text": [
            "100%|██████████| 9912422/9912422 [00:00<00:00, 15665915.79it/s]\n"
          ]
        },
        {
          "output_type": "stream",
          "name": "stdout",
          "text": [
            "Extracting ./data/MNIST/raw/train-images-idx3-ubyte.gz to ./data/MNIST/raw\n",
            "\n",
            "Downloading http://yann.lecun.com/exdb/mnist/train-labels-idx1-ubyte.gz\n",
            "Failed to download (trying next):\n",
            "HTTP Error 403: Forbidden\n",
            "\n",
            "Downloading https://ossci-datasets.s3.amazonaws.com/mnist/train-labels-idx1-ubyte.gz\n",
            "Downloading https://ossci-datasets.s3.amazonaws.com/mnist/train-labels-idx1-ubyte.gz to ./data/MNIST/raw/train-labels-idx1-ubyte.gz\n"
          ]
        },
        {
          "output_type": "stream",
          "name": "stderr",
          "text": [
            "100%|██████████| 28881/28881 [00:00<00:00, 483898.22it/s]\n"
          ]
        },
        {
          "output_type": "stream",
          "name": "stdout",
          "text": [
            "Extracting ./data/MNIST/raw/train-labels-idx1-ubyte.gz to ./data/MNIST/raw\n",
            "\n",
            "Downloading http://yann.lecun.com/exdb/mnist/t10k-images-idx3-ubyte.gz\n",
            "Failed to download (trying next):\n",
            "HTTP Error 403: Forbidden\n",
            "\n",
            "Downloading https://ossci-datasets.s3.amazonaws.com/mnist/t10k-images-idx3-ubyte.gz\n",
            "Downloading https://ossci-datasets.s3.amazonaws.com/mnist/t10k-images-idx3-ubyte.gz to ./data/MNIST/raw/t10k-images-idx3-ubyte.gz\n"
          ]
        },
        {
          "output_type": "stream",
          "name": "stderr",
          "text": [
            "100%|██████████| 1648877/1648877 [00:00<00:00, 4385651.29it/s]\n"
          ]
        },
        {
          "output_type": "stream",
          "name": "stdout",
          "text": [
            "Extracting ./data/MNIST/raw/t10k-images-idx3-ubyte.gz to ./data/MNIST/raw\n",
            "\n",
            "Downloading http://yann.lecun.com/exdb/mnist/t10k-labels-idx1-ubyte.gz\n",
            "Failed to download (trying next):\n",
            "HTTP Error 403: Forbidden\n",
            "\n",
            "Downloading https://ossci-datasets.s3.amazonaws.com/mnist/t10k-labels-idx1-ubyte.gz\n",
            "Downloading https://ossci-datasets.s3.amazonaws.com/mnist/t10k-labels-idx1-ubyte.gz to ./data/MNIST/raw/t10k-labels-idx1-ubyte.gz\n"
          ]
        },
        {
          "output_type": "stream",
          "name": "stderr",
          "text": [
            "100%|██████████| 4542/4542 [00:00<00:00, 3207159.73it/s]"
          ]
        },
        {
          "output_type": "stream",
          "name": "stdout",
          "text": [
            "Extracting ./data/MNIST/raw/t10k-labels-idx1-ubyte.gz to ./data/MNIST/raw\n",
            "\n",
            "mnist_train: Dataset MNIST\n",
            "    Number of datapoints: 60000\n",
            "    Root location: ./data/\n",
            "    Split: Train\n",
            "    StandardTransform\n",
            "Transform: ToTensor()\n",
            "mnist_test: Dataset MNIST\n",
            "    Number of datapoints: 10000\n",
            "    Root location: ./data/\n",
            "    Split: Test\n",
            "    StandardTransform\n",
            "Transform: ToTensor()\n"
          ]
        },
        {
          "output_type": "stream",
          "name": "stderr",
          "text": [
            "\n"
          ]
        }
      ]
    },
    {
      "cell_type": "markdown",
      "source": [
        "## Data Iterator"
      ],
      "metadata": {
        "id": "hcn2xyxd9vnC"
      }
    },
    {
      "cell_type": "code",
      "source": [
        "BATCH_SIZE = 256\n",
        "train_iter = torch.utils.data.DataLoader(mnist_train, batch_size = BATCH_SIZE, shuffle=True, num_workers = 1)\n",
        "test_iter = torch.utils.data.DataLoader(mnist_test, batch_size = BATCH_SIZE, shuffle=True, num_workers = 1)\n",
        "print('Done')"
      ],
      "metadata": {
        "colab": {
          "base_uri": "https://localhost:8080/"
        },
        "id": "MOH_4HaL9Rck",
        "outputId": "45714ae1-28a2-4fba-df20-5c28e02dc3fa"
      },
      "execution_count": null,
      "outputs": [
        {
          "output_type": "stream",
          "name": "stdout",
          "text": [
            "Done\n"
          ]
        }
      ]
    },
    {
      "cell_type": "markdown",
      "source": [
        "## Define the MLP Model"
      ],
      "metadata": {
        "id": "w3CFQpx39yLX"
      }
    },
    {
      "cell_type": "code",
      "source": [
        "class MultiLayerPerceptronClass(nn.Module) :\n",
        "  \"\"\"\n",
        "     Multilayer Perceptron (MLP) Class\n",
        "  \"\"\"\n",
        "  def __init__(self, name = 'mlp', xdim = 784, hdim = 256, ydim = 10) :\n",
        "    super(MultiLayerPerceptronClass, self).__init__()\n",
        "    self.name = name\n",
        "    self.xdim = xdim\n",
        "    self.hdim = hdim\n",
        "    self.ydim = ydim\n",
        "    self.lin_1 = nn.Linear(self.xdim, self.hdim)\n",
        "    self.lin_2 = nn.Linear(self.hdim, self.ydim)\n",
        "\n",
        "    self.init_param()\n",
        "\n",
        "  def init_param(self) :\n",
        "    nn.init.kaiming_normal_(self.lin_1.weight)\n",
        "    nn.init.zeros_(self.lin_1.bias)\n",
        "    nn.init.kaiming_normal_(self.lin_2.weight)\n",
        "    nn.init.zeros_(self.lin_2.bias)\n",
        "\n",
        "  def forward(self, x) :\n",
        "    net = x\n",
        "    net = self.lin_1(net)\n",
        "    net = F.relu(net)\n",
        "    net = self.lin_2(net)\n",
        "    return net"
      ],
      "metadata": {
        "id": "_-ePZuQt9sVI"
      },
      "execution_count": null,
      "outputs": []
    },
    {
      "cell_type": "code",
      "source": [
        "M = MultiLayerPerceptronClass().to(device)\n",
        "loss = nn.CrossEntropyLoss()\n",
        "optimizer = optim.Adam(M.parameters(), lr = 0.001)\n",
        "print(M)\n",
        "print(loss)\n",
        "print(optimizer)"
      ],
      "metadata": {
        "colab": {
          "base_uri": "https://localhost:8080/"
        },
        "id": "BlZfhHzP_YXp",
        "outputId": "6e8c8945-4a55-4330-a865-c3cf4074fe83"
      },
      "execution_count": null,
      "outputs": [
        {
          "output_type": "stream",
          "name": "stdout",
          "text": [
            "MultiLayerPerceptronClass(\n",
            "  (lin_1): Linear(in_features=784, out_features=256, bias=True)\n",
            "  (lin_2): Linear(in_features=256, out_features=10, bias=True)\n",
            ")\n",
            "CrossEntropyLoss()\n",
            "Adam (\n",
            "Parameter Group 0\n",
            "    amsgrad: False\n",
            "    betas: (0.9, 0.999)\n",
            "    capturable: False\n",
            "    differentiable: False\n",
            "    eps: 1e-08\n",
            "    foreach: None\n",
            "    fused: None\n",
            "    lr: 0.001\n",
            "    maximize: False\n",
            "    weight_decay: 0\n",
            ")\n"
          ]
        }
      ]
    },
    {
      "cell_type": "markdown",
      "source": [
        "## Simple Forward Path of the MLP Model"
      ],
      "metadata": {
        "id": "aqQbhSuEAlP5"
      }
    },
    {
      "cell_type": "code",
      "source": [
        "x_numpy = np.random.rand(2, 784)\n",
        "x_torch  = torch.from_numpy(x_numpy).float().to(device)\n",
        "y_torch = M.forward(x_torch) # forward path\n",
        "y_numpy = y_torch.detach().cpu().numpy() # torch tensor to numpy array\n",
        "\n",
        "print(f'x_numpy: {x_numpy}')\n",
        "print(f'x_torch: {x_torch}')\n",
        "print(f'y_torch: {y_torch}')\n",
        "print(f'y_numpy: {y_numpy}')"
      ],
      "metadata": {
        "colab": {
          "base_uri": "https://localhost:8080/"
        },
        "id": "KctiNg5d_tSN",
        "outputId": "6ecd3d6b-16bb-4fbe-afce-f2b3636b4a49"
      },
      "execution_count": null,
      "outputs": [
        {
          "output_type": "stream",
          "name": "stdout",
          "text": [
            "x_numpy: [[0.98884798 0.01729046 0.74670391 ... 0.17059995 0.91382288 0.60273903]\n",
            " [0.75921096 0.93422065 0.25061606 ... 0.81912969 0.10385392 0.574095  ]]\n",
            "x_torch: tensor([[0.9888, 0.0173, 0.7467,  ..., 0.1706, 0.9138, 0.6027],\n",
            "        [0.7592, 0.9342, 0.2506,  ..., 0.8191, 0.1039, 0.5741]],\n",
            "       device='cuda:0')\n",
            "y_torch: tensor([[ 0.2814, -0.4823,  0.7551, -0.1601,  0.3369,  0.9661,  2.3672,  2.0343,\n",
            "          0.9786,  0.2947],\n",
            "        [ 0.5904, -0.6138,  1.1055,  0.2303, -0.4073,  1.4551,  1.8417,  0.9815,\n",
            "          0.5826,  0.4786]], device='cuda:0', grad_fn=<AddmmBackward0>)\n",
            "y_numpy: [[ 0.28139102 -0.48228675  0.755122   -0.16014336  0.33691522  0.96613336\n",
            "   2.3671784   2.034261    0.97860014  0.2947285 ]\n",
            " [ 0.5904148  -0.6138332   1.1054698   0.23025797 -0.40726236  1.4551336\n",
            "   1.8417144   0.9814996   0.58258885  0.47859472]]\n"
          ]
        }
      ]
    },
    {
      "cell_type": "markdown",
      "source": [
        "## Check Parameters"
      ],
      "metadata": {
        "id": "TnczjoPABn4v"
      }
    },
    {
      "cell_type": "code",
      "source": [
        "np.set_printoptions(precision = 3)\n",
        "n_param = 0\n",
        "for p_idx, (param_name, param) in enumerate(M.named_parameters()) :\n",
        "  param_numpy = param.detach().cpu().numpy()\n",
        "  n_param += len(param_numpy.reshape(-1))\n",
        "  print(f'[{p_idx}] name : [{param_name}] shape : [{param_numpy.shape}]')\n",
        "  print(f'     val: {param_numpy.reshape(-1)[:5]}')\n",
        "\n",
        "print(f'Total number of parameters: [{n_param}]')"
      ],
      "metadata": {
        "colab": {
          "base_uri": "https://localhost:8080/"
        },
        "id": "8Pqjoqt3BLEO",
        "outputId": "5e403908-95b7-4d4e-a612-f00572b1e671"
      },
      "execution_count": null,
      "outputs": [
        {
          "output_type": "stream",
          "name": "stdout",
          "text": [
            "[0] name : [lin_1.weight] shape : [(256, 784)]\n",
            "     val: [ 0.025  0.027  0.026 -0.004  0.035]\n",
            "[1] name : [lin_1.bias] shape : [(256,)]\n",
            "     val: [0. 0. 0. 0. 0.]\n",
            "[2] name : [lin_2.weight] shape : [(10, 256)]\n",
            "     val: [-0.189  0.08   0.149 -0.036  0.002]\n",
            "[3] name : [lin_2.bias] shape : [(10,)]\n",
            "     val: [0. 0. 0. 0. 0.]\n",
            "Total number of parameters: [203530]\n"
          ]
        }
      ]
    },
    {
      "cell_type": "markdown",
      "source": [
        "## Evaluation Function"
      ],
      "metadata": {
        "id": "wn_TozIACnzo"
      }
    },
    {
      "cell_type": "code",
      "source": [
        "def func_eval(model, data_iter, device) :\n",
        "  with torch.no_grad() :\n",
        "    model.eval()\n",
        "    n_total, n_correct = 0, 0\n",
        "    for batch_in, batch_out in data_iter :\n",
        "      y_trgt = batch_out.to(device)\n",
        "      model_pred = model(\n",
        "          batch_in.view(batch_in.size(0), -1).to(device)\n",
        "      )\n",
        "      _, y_pred = torch.max(model_pred.data, 1)\n",
        "      n_correct += (\n",
        "          y_trgt == y_pred\n",
        "      ).sum().item()\n",
        "      n_total += batch_in.size(0)\n",
        "    val_accr = (n_correct / n_total)* 100\n",
        "    model.train() # back to train mode\n",
        "  return val_accr"
      ],
      "metadata": {
        "id": "KC2CEh2wCa-e"
      },
      "execution_count": null,
      "outputs": []
    },
    {
      "cell_type": "markdown",
      "source": [
        "## Initial Evaluation"
      ],
      "metadata": {
        "id": "KKp_eQ2ODqhd"
      }
    },
    {
      "cell_type": "code",
      "source": [
        "M.init_param() # initialize parameters\n",
        "train_accr = func_eval(M, train_iter, device)\n",
        "test_accr = func_eval(M, test_iter, device)\n",
        "print(f'train_accr: {train_accr}%')\n",
        "print(f'test_accr: {test_accr}%')"
      ],
      "metadata": {
        "colab": {
          "base_uri": "https://localhost:8080/"
        },
        "id": "hM0gh_FcDlwy",
        "outputId": "996f89d5-0185-431b-b733-8dc5feb77af3"
      },
      "execution_count": null,
      "outputs": [
        {
          "output_type": "stream",
          "name": "stdout",
          "text": [
            "train_accr: 11.450000000000001%\n",
            "test_accr: 10.43%\n"
          ]
        }
      ]
    },
    {
      "cell_type": "markdown",
      "source": [
        "## Train"
      ],
      "metadata": {
        "id": "G4SE3eyGER4O"
      }
    },
    {
      "cell_type": "code",
      "source": [
        "print('Start Training')\n",
        "M.init_param() # initialize parameters()\n",
        "M.train()\n",
        "EPOCHS, print_every = 10, 1\n",
        "\n",
        "for epoch in range(EPOCHS) :\n",
        "  loss_val_sum = 0\n",
        "  for batch_in, batch_out in train_iter :\n",
        "    # Forward Path\n",
        "    y_pred = M.forward(batch_in.view(-1, 28*28).to(device))\n",
        "    loss_out = loss(y_pred, batch_out.to(device))\n",
        "\n",
        "    # Update\n",
        "    optimizer.zero_grad()\n",
        "    loss_out.backward()\n",
        "    optimizer.step()\n",
        "    loss_val_sum += loss_out\n",
        "  loss_val_avg = loss_val_sum / len(train_iter)\n",
        "  if ((epoch % print_every) == 0) or (epoch == (EPOCHS - 1)) :\n",
        "    train_accr = func_eval(M, train_iter, device)\n",
        "    test_accr = func_eval(M, test_iter, device)\n",
        "    print(f'Epoch: {epoch + 1}    loss: {loss_val_avg : .3f}    train_accr: {train_accr : .3f}    test_accr: {test_accr : .3f}')\n"
      ],
      "metadata": {
        "colab": {
          "base_uri": "https://localhost:8080/"
        },
        "id": "tUpaibQuD8vD",
        "outputId": "20e7328d-38aa-41dc-8e5c-c0eb3769f96d"
      },
      "execution_count": null,
      "outputs": [
        {
          "output_type": "stream",
          "name": "stdout",
          "text": [
            "Start Training\n",
            "Epoch: 1    loss:  0.308    train_accr:  95.262    test_accr:  95.040\n",
            "Epoch: 2    loss:  0.138    train_accr:  97.088    test_accr:  96.570\n",
            "Epoch: 3    loss:  0.099    train_accr:  97.827    test_accr:  97.000\n",
            "Epoch: 4    loss:  0.076    train_accr:  98.242    test_accr:  97.350\n",
            "Epoch: 5    loss:  0.061    train_accr:  98.628    test_accr:  97.430\n",
            "Epoch: 6    loss:  0.049    train_accr:  99.000    test_accr:  97.920\n",
            "Epoch: 7    loss:  0.041    train_accr:  99.238    test_accr:  97.980\n",
            "Epoch: 8    loss:  0.034    train_accr:  99.470    test_accr:  98.010\n",
            "Epoch: 9    loss:  0.028    train_accr:  99.567    test_accr:  98.000\n",
            "Epoch: 10    loss:  0.023    train_accr:  99.688    test_accr:  98.090\n"
          ]
        }
      ]
    },
    {
      "cell_type": "markdown",
      "source": [
        "## Test"
      ],
      "metadata": {
        "id": "9rImeT8jG7r4"
      }
    },
    {
      "cell_type": "code",
      "source": [
        "n_sample = 25\n",
        "sample_indices = np.random.choice(len(mnist_test.targets), n_sample, replace = False)\n",
        "test_x = mnist_test.data[sample_indices]\n",
        "test_y = mnist_test.targets[sample_indices]\n",
        "\n",
        "with torch.no_grad() :\n",
        "  y_pred = M.forward(test_x.view(-1, 28*28).type(torch.float).to(device) / 255.)\n",
        "y_pred = y_pred.argmax(axis = 1)\n",
        "plt.figure(figsize = (10, 10))\n",
        "\n",
        "for idx in range(n_sample) :\n",
        "  plt.subplot(5, 5, idx + 1)\n",
        "  plt.imshow(test_x[idx], cmap = 'gray')\n",
        "  plt.axis('off')\n",
        "  plt.title(f'Pred: {y_pred[idx]} Label: {test_y[idx]}')\n",
        "plt.show()"
      ],
      "metadata": {
        "colab": {
          "base_uri": "https://localhost:8080/",
          "height": 829
        },
        "id": "PpTRvCeDFkMT",
        "outputId": "facd1f1e-aaa2-42ef-ec6b-db679bc6b81f"
      },
      "execution_count": null,
      "outputs": [
        {
          "output_type": "display_data",
          "data": {
            "text/plain": [
              "<Figure size 1000x1000 with 25 Axes>"
            ],
            "image/png": "[encoded data removed]"
          },
          "metadata": {}
        }
      ]
    },
    {
      "cell_type": "code",
      "source": [],
      "metadata": {
        "id": "O2l47KFMHwWc"
      },
      "execution_count": null,
      "outputs": []
    }
  ]
}